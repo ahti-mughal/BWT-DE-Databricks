{
 "cells": [
  {
   "cell_type": "code",
   "execution_count": 0,
   "metadata": {
    "application/vnd.databricks.v1+cell": {
     "cellMetadata": {
      "byteLimit": 2048000,
      "rowLimit": 10000
     },
     "inputWidgets": {},
     "nuid": "a1ee7610-c84e-40fd-8181-9f5c5aee7daf",
     "showTitle": false,
     "title": ""
    }
   },
   "outputs": [
    {
     "output_type": "stream",
     "name": "stdout",
     "output_type": "stream",
     "text": [
      "Out[1]: [MountInfo(mountPoint='/databricks-datasets', source='databricks-datasets', encryptionType=''),\n MountInfo(mountPoint='/databricks/mlflow-tracking', source='databricks/mlflow-tracking', encryptionType=''),\n MountInfo(mountPoint='/mnt/covid19projectdatalake/processed', source='abfss://processed@covid19projectdatalake.dfs.core.windows.net/', encryptionType=''),\n MountInfo(mountPoint='/databricks-results', source='databricks-results', encryptionType=''),\n MountInfo(mountPoint='/mnt/covid19projectdatalake/raw', source='abfss://raw@covid19projectdatalake.dfs.core.windows.net/', encryptionType=''),\n MountInfo(mountPoint='/databricks/mlflow-registry', source='databricks/mlflow-registry', encryptionType=''),\n MountInfo(mountPoint='/', source='DatabricksRoot', encryptionType='')]"
     ]
    }
   ],
   "source": [
    "dbutils.fs.mounts()"
   ]
  },
  {
   "cell_type": "code",
   "execution_count": 0,
   "metadata": {
    "application/vnd.databricks.v1+cell": {
     "cellMetadata": {
      "byteLimit": 2048000,
      "rowLimit": 10000
     },
     "inputWidgets": {},
     "nuid": "26beeff9-2ebe-492a-babc-6906a3d0a12f",
     "showTitle": false,
     "title": ""
    }
   },
   "outputs": [
    {
     "output_type": "display_data",
     "data": {
      "text/html": [
       "<style scoped>\n",
       "  .table-result-container {\n",
       "    max-height: 300px;\n",
       "    overflow: auto;\n",
       "  }\n",
       "  table, th, td {\n",
       "    border: 1px solid black;\n",
       "    border-collapse: collapse;\n",
       "  }\n",
       "  th, td {\n",
       "    padding: 5px;\n",
       "  }\n",
       "  th {\n",
       "    text-align: left;\n",
       "  }\n",
       "</style><div class='table-result-container'><table class='table-result'><thead style='background-color: white'><tr><th>path</th><th>name</th><th>size</th><th>modificationTime</th></tr></thead><tbody><tr><td>dbfs:/mnt/covid19projectdatalake/raw/circuits.csv</td><td>circuits.csv</td><td>10044</td><td>1683029856000</td></tr><tr><td>dbfs:/mnt/covid19projectdatalake/raw/constructors.json</td><td>constructors.json</td><td>30415</td><td>1683029857000</td></tr><tr><td>dbfs:/mnt/covid19projectdatalake/raw/drivers.json</td><td>drivers.json</td><td>180812</td><td>1683029857000</td></tr><tr><td>dbfs:/mnt/covid19projectdatalake/raw/lap_times/</td><td>lap_times/</td><td>0</td><td>1683029922000</td></tr><tr><td>dbfs:/mnt/covid19projectdatalake/raw/pit_stops.json</td><td>pit_stops.json</td><td>1369387</td><td>1683029864000</td></tr><tr><td>dbfs:/mnt/covid19projectdatalake/raw/qualifying/</td><td>qualifying/</td><td>0</td><td>1683029980000</td></tr><tr><td>dbfs:/mnt/covid19projectdatalake/raw/races.csv</td><td>races.csv</td><td>116847</td><td>1683029858000</td></tr><tr><td>dbfs:/mnt/covid19projectdatalake/raw/results.json</td><td>results.json</td><td>7165641</td><td>1683029883000</td></tr></tbody></table></div>"
      ]
     },
     "metadata": {
      "application/vnd.databricks.v1+output": {
       "addedWidgets": {},
       "aggData": [],
       "aggError": "",
       "aggOverflow": false,
       "aggSchema": [],
       "aggSeriesLimitReached": false,
       "aggType": "",
       "arguments": {},
       "columnCustomDisplayInfos": {},
       "data": [
        [
         "dbfs:/mnt/covid19projectdatalake/raw/circuits.csv",
         "circuits.csv",
         10044,
         1683029856000
        ],
        [
         "dbfs:/mnt/covid19projectdatalake/raw/constructors.json",
         "constructors.json",
         30415,
         1683029857000
        ],
        [
         "dbfs:/mnt/covid19projectdatalake/raw/drivers.json",
         "drivers.json",
         180812,
         1683029857000
        ],
        [
         "dbfs:/mnt/covid19projectdatalake/raw/lap_times/",
         "lap_times/",
         0,
         1683029922000
        ],
        [
         "dbfs:/mnt/covid19projectdatalake/raw/pit_stops.json",
         "pit_stops.json",
         1369387,
         1683029864000
        ],
        [
         "dbfs:/mnt/covid19projectdatalake/raw/qualifying/",
         "qualifying/",
         0,
         1683029980000
        ],
        [
         "dbfs:/mnt/covid19projectdatalake/raw/races.csv",
         "races.csv",
         116847,
         1683029858000
        ],
        [
         "dbfs:/mnt/covid19projectdatalake/raw/results.json",
         "results.json",
         7165641,
         1683029883000
        ]
       ],
       "datasetInfos": [],
       "dbfsResultPath": null,
       "isJsonSchema": true,
       "metadata": {},
       "overflow": false,
       "plotOptions": {
        "customPlotOptions": {},
        "displayType": "table",
        "pivotAggregation": null,
        "pivotColumns": null,
        "xColumns": null,
        "yColumns": null
       },
       "removedWidgets": [],
       "schema": [
        {
         "metadata": "{}",
         "name": "path",
         "type": "\"string\""
        },
        {
         "metadata": "{}",
         "name": "name",
         "type": "\"string\""
        },
        {
         "metadata": "{}",
         "name": "size",
         "type": "\"long\""
        },
        {
         "metadata": "{}",
         "name": "modificationTime",
         "type": "\"long\""
        }
       ],
       "type": "table"
      }
     },
     "output_type": "display_data"
    }
   ],
   "source": [
    "display(dbutils.fs.ls(\"/mnt/covid19projectdatalake/raw\"))"
   ]
  },
  {
   "cell_type": "code",
   "execution_count": 0,
   "metadata": {
    "application/vnd.databricks.v1+cell": {
     "cellMetadata": {
      "byteLimit": 2048000,
      "rowLimit": 10000
     },
     "inputWidgets": {},
     "nuid": "12d4c0ec-f133-446e-a0c4-39d232b48243",
     "showTitle": false,
     "title": ""
    }
   },
   "outputs": [],
   "source": [
    "from pyspark.sql.types import StructType, StructField, StringType, IntegerType, DateType"
   ]
  },
  {
   "cell_type": "code",
   "execution_count": 0,
   "metadata": {
    "application/vnd.databricks.v1+cell": {
     "cellMetadata": {
      "byteLimit": 2048000,
      "rowLimit": 10000
     },
     "inputWidgets": {},
     "nuid": "e7f227f6-092c-474f-a324-9bab96224dc5",
     "showTitle": false,
     "title": ""
    }
   },
   "outputs": [],
   "source": [
    "races_schema = StructType(fields=[StructField(\"raceId\", IntegerType(), False),\n",
    "                                  StructField(\"year\", IntegerType(), True),\n",
    "                                  StructField(\"round\", IntegerType(), True),\n",
    "                                  StructField(\"circuitId\", IntegerType(), True),\n",
    "                                  StructField(\"name\", StringType(), True),\n",
    "                                  StructField(\"date\", DateType(), True),\n",
    "                                  StructField(\"time\", StringType(), True),\n",
    "                                  StructField(\"url\", StringType(), True)\n",
    "])"
   ]
  },
  {
   "cell_type": "code",
   "execution_count": 0,
   "metadata": {
    "application/vnd.databricks.v1+cell": {
     "cellMetadata": {
      "byteLimit": 2048000,
      "rowLimit": 10000
     },
     "inputWidgets": {},
     "nuid": "d20d9440-14d9-4d3e-8c63-e4a9448fc5cb",
     "showTitle": false,
     "title": ""
    }
   },
   "outputs": [],
   "source": [
    "races_df = spark.read.schema(races_schema).csv(\"dbfs:/mnt/covid19projectdatalake/raw/races.csv\", header=True)"
   ]
  },
  {
   "cell_type": "code",
   "execution_count": 0,
   "metadata": {
    "application/vnd.databricks.v1+cell": {
     "cellMetadata": {
      "byteLimit": 2048000,
      "rowLimit": 10000
     },
     "inputWidgets": {},
     "nuid": "44b9f2e3-c988-41d1-9d87-2fb0e9804c0c",
     "showTitle": false,
     "title": ""
    }
   },
   "outputs": [],
   "source": [
    "from pyspark.sql.functions import current_timestamp, to_timestamp, concat, lit, col"
   ]
  },
  {
   "cell_type": "code",
   "execution_count": 0,
   "metadata": {
    "application/vnd.databricks.v1+cell": {
     "cellMetadata": {
      "byteLimit": 2048000,
      "rowLimit": 10000
     },
     "inputWidgets": {},
     "nuid": "d39b8625-2094-465e-be2b-5ad7900878e3",
     "showTitle": false,
     "title": ""
    }
   },
   "outputs": [],
   "source": [
    "races_with_timestamp_df = races_df.withColumn(\"ingestion_date\", current_timestamp()).withColumn(\"race_timestamp\", to_timestamp(concat(col(\"date\"), lit(\" \"), col(\"time\")), \"yyyy-MM-dd HH:mm:ss\"))"
   ]
  },
  {
   "cell_type": "code",
   "execution_count": 0,
   "metadata": {
    "application/vnd.databricks.v1+cell": {
     "cellMetadata": {
      "byteLimit": 2048000,
      "rowLimit": 10000
     },
     "inputWidgets": {},
     "nuid": "0018bb9b-7e03-48dd-8bc5-c8be21a138df",
     "showTitle": false,
     "title": ""
    }
   },
   "outputs": [],
   "source": [
    "races_selected_df = races_with_timestamp_df.select(col(\"raceId\").alias(\"race_id\"), col(\"year\").alias(\"race_yaer\"), col(\"round\"), col(\"circuitId\").alias(\"circuit_id\"), col(\"name\"), col(\"ingestion_date\"), col(\"race_timestamp\"))"
   ]
  },
  {
   "cell_type": "code",
   "execution_count": 0,
   "metadata": {
    "application/vnd.databricks.v1+cell": {
     "cellMetadata": {
      "byteLimit": 2048000,
      "rowLimit": 10000
     },
     "inputWidgets": {},
     "nuid": "4902ee58-51a2-418e-8ebe-e2bb9ce098d9",
     "showTitle": false,
     "title": ""
    }
   },
   "outputs": [],
   "source": [
    "races_selected_df.write.mode(\"overwrite\").parquet(\"/mnt/covid19projectdatalake/processed/races\")"
   ]
  }
 ],
 "metadata": {
  "application/vnd.databricks.v1+notebook": {
   "dashboards": [],
   "language": "python",
   "notebookMetadata": {
    "mostRecentlyExecutedCommandWithImplicitDF": {
     "commandId": 1902339031747735,
     "dataframes": [
      "_sqldf"
     ]
    },
    "pythonIndentUnit": 4
   },
   "notebookName": "2.ingest_races_files",
   "notebookOrigID": 3181195764726034,
   "widgets": {}
  }
 },
 "nbformat": 4,
 "nbformat_minor": 0
}

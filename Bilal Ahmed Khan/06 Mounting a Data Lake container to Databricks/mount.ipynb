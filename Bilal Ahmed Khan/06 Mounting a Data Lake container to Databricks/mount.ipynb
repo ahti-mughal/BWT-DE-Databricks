{
 "cells": [
  {
   "cell_type": "code",
   "execution_count": 0,
   "metadata": {
    "application/vnd.databricks.v1+cell": {
     "cellMetadata": {
      "byteLimit": 2048000,
      "rowLimit": 10000
     },
     "inputWidgets": {},
     "nuid": "0fc8ab46-0268-49d0-8d87-ef33493af685",
     "showTitle": false,
     "title": ""
    }
   },
   "outputs": [],
   "source": [
    "storage_account_name = \"covid19projectdatalake\"\n",
    "client_id = dbutils.secrets.get(scope=\"formula1-scope\", key=\"databricks-client-id\")\n",
    "tenant_id = dbutils.secrets.get(scope=\"formula1-scope\", key=\"databricks-tenant-id\")\n",
    "client_secret = dbutils.secrets.get(scope=\"formula1-scope\", key=\"databricks-client-secret\")"
   ]
  },
  {
   "cell_type": "code",
   "execution_count": 0,
   "metadata": {
    "application/vnd.databricks.v1+cell": {
     "cellMetadata": {
      "byteLimit": 2048000,
      "rowLimit": 10000
     },
     "inputWidgets": {},
     "nuid": "3489e2b6-743a-4cfc-9500-bdb6c2c341c3",
     "showTitle": false,
     "title": ""
    }
   },
   "outputs": [],
   "source": [
    "configs={\"fs.azure.account.auth.type\" : \"OAuth\",\n",
    "    \"fs.azure.account.oauth.provider.type\" : \"org.apache.hadoop.fs.azurebfs.oauth2.ClientCredsTokenProvider\",\n",
    "    \"fs.azure.account.oauth2.client.id\" : f\"{client_id}\",\n",
    "    \"fs.azure.account.oauth2.client.secret\" : f\"{client_secret}\",\n",
    "    \"fs.azure.account.oauth2.client.endpoint\" : f\"https://login.microsoftonline.com/{tenant_id}/oauth2/token\"}"
   ]
  },
  {
   "cell_type": "code",
   "execution_count": 0,
   "metadata": {
    "application/vnd.databricks.v1+cell": {
     "cellMetadata": {
      "byteLimit": 2048000,
      "rowLimit": 10000
     },
     "inputWidgets": {},
     "nuid": "a30f1a78-762c-4363-85dd-fcc3a53cc9d8",
     "showTitle": false,
     "title": ""
    }
   },
   "outputs": [],
   "source": [
    "def mount_adls(container_name):\n",
    "    dbutils.fs.mount(\n",
    "        source = f\"abfss://{container_name}@{storage_account_name}.dfs.core.windows.net/\",\n",
    "        mount_point = f\"/mnt/{storage_account_name}/{container_name}\",\n",
    "        extra_configs = configs)"
   ]
  },
  {
   "cell_type": "code",
   "execution_count": 0,
   "metadata": {
    "application/vnd.databricks.v1+cell": {
     "cellMetadata": {
      "byteLimit": 2048000,
      "rowLimit": 10000
     },
     "inputWidgets": {},
     "nuid": "36de9ae9-33df-48cc-8746-9a0e38c94551",
     "showTitle": false,
     "title": ""
    }
   },
   "outputs": [],
   "source": [
    "mount_adls(\"raw\")"
   ]
  },
  {
   "cell_type": "code",
   "execution_count": 0,
   "metadata": {
    "application/vnd.databricks.v1+cell": {
     "cellMetadata": {
      "byteLimit": 2048000,
      "rowLimit": 10000
     },
     "inputWidgets": {},
     "nuid": "472f1324-a3e3-45f6-927e-49402e2ab8a3",
     "showTitle": false,
     "title": ""
    }
   },
   "outputs": [],
   "source": [
    "mount_adls(\"processed\")"
   ]
  },
  {
   "cell_type": "code",
   "execution_count": 0,
   "metadata": {
    "application/vnd.databricks.v1+cell": {
     "cellMetadata": {
      "byteLimit": 2048000,
      "rowLimit": 10000
     },
     "inputWidgets": {},
     "nuid": "07055d9d-418d-489f-83d4-fc815b40cc8a",
     "showTitle": false,
     "title": ""
    }
   },
   "outputs": [
    {
     "output_type": "stream",
     "name": "stdout",
     "output_type": "stream",
     "text": [
      "Out[17]: []"
     ]
    }
   ],
   "source": [
    "dbutils.fs.ls(\"/mnt/covid19projectdatalake/raw\")"
   ]
  },
  {
   "cell_type": "code",
   "execution_count": 0,
   "metadata": {
    "application/vnd.databricks.v1+cell": {
     "cellMetadata": {
      "byteLimit": 2048000,
      "rowLimit": 10000
     },
     "inputWidgets": {},
     "nuid": "0ebc3eea-30ad-4b09-bc23-48263ac20314",
     "showTitle": false,
     "title": ""
    }
   },
   "outputs": [
    {
     "output_type": "stream",
     "name": "stdout",
     "output_type": "stream",
     "text": [
      "Out[18]: []"
     ]
    }
   ],
   "source": [
    "dbutils.fs.ls(\"/mnt/covid19projectdatalake/processed\")"
   ]
  }
 ],
 "metadata": {
  "application/vnd.databricks.v1+notebook": {
   "dashboards": [],
   "language": "python",
   "notebookMetadata": {
    "pythonIndentUnit": 4
   },
   "notebookName": "mount_adls_storage",
   "notebookOrigID": 2280239951741864,
   "widgets": {}
  }
 },
 "nbformat": 4,
 "nbformat_minor": 0
}
